{
 "cells": [
  {
   "cell_type": "markdown",
   "metadata": {},
   "source": [
    "## Crypto Arbitrage\n",
    "\n",
    "In this Challenge, you'll take on the role of an analyst at a high-tech investment firm. The vice president (VP) of your department is considering arbitrage opportunities in Bitcoin and other cryptocurrencies. As Bitcoin trades on markets across the globe, can you capitalize on simultaneous price dislocations in those markets by using the powers of Pandas?\n",
    "\n",
    "For this assignment, you’ll sort through historical trade data for Bitcoin on two exchanges: Bitstamp and Coinbase. Your task is to apply the three phases of financial analysis to determine if any arbitrage opportunities exist for Bitcoin.\n",
    "\n",
    "This aspect of the Challenge will consist of 3 phases.\n",
    "\n",
    "1. Collect the data.\n",
    "\n",
    "2. Prepare the data.\n",
    "\n",
    "3. Analyze the data. \n",
    "\n"
   ]
  },
  {
   "cell_type": "markdown",
   "metadata": {},
   "source": []
  },
  {
   "cell_type": "markdown",
   "metadata": {},
   "source": [
    "###  Import the required libraries and dependencies."
   ]
  },
  {
   "cell_type": "code",
   "execution_count": 2,
   "metadata": {},
   "outputs": [],
   "source": [
    "import pandas as pd\n",
    "from pathlib import Path\n",
    "%matplotlib inline"
   ]
  },
  {
   "cell_type": "markdown",
   "metadata": {},
   "source": [
    "## Collect the Data\n",
    "\n",
    "To collect the data that you’ll need, complete the following steps:\n",
    "\n",
    "Instructions. \n",
    "\n",
    "1. Using the Pandas `read_csv` function and the `Path` module, import the data from `bitstamp.csv` file, and create a DataFrame called `bitstamp`. Set the DatetimeIndex as the Timestamp column, and be sure to parse and format the dates.\n",
    "\n",
    "2. Use the `head` (and/or the `tail`) function to confirm that Pandas properly imported the data.\n",
    "\n",
    "3. Repeat Steps 1 and 2 for `coinbase.csv` file."
   ]
  },
  {
   "cell_type": "markdown",
   "metadata": {},
   "source": [
    "### Step 1: Using the Pandas `read_csv` function and the `Path` module, import the data from `bitstamp.csv` file, and create a DataFrame called `bitstamp`. Set the DatetimeIndex as the Timestamp column, and be sure to parse and format the dates."
   ]
  },
  {
   "cell_type": "code",
   "execution_count": 3,
   "metadata": {},
   "outputs": [],
   "source": [
    "# Read in the CSV file called \"bitstamp.csv\" using the Path module. \n",
    "# The CSV file is located in the Resources folder.\n",
    "# Set the index to the column \"Date\"\n",
    "# Set the parse_dates and infer_datetime_format parameters\n",
    "\n",
    "csv_path = Path(\"Resources/bitstamp.csv\")\n",
    "bitstamp = pd.read_csv(csv_path,index_col = 'Timestamp', parse_dates= True, infer_datetime_format= True)"
   ]
  },
  {
   "cell_type": "markdown",
   "metadata": {},
   "source": [
    "### Step 2: Use the `head` (and/or the `tail`) function to confirm that Pandas properly imported the data."
   ]
  },
  {
   "cell_type": "code",
   "execution_count": 4,
   "metadata": {},
   "outputs": [
    {
     "data": {
      "text/html": [
       "<div>\n",
       "<style scoped>\n",
       "    .dataframe tbody tr th:only-of-type {\n",
       "        vertical-align: middle;\n",
       "    }\n",
       "\n",
       "    .dataframe tbody tr th {\n",
       "        vertical-align: top;\n",
       "    }\n",
       "\n",
       "    .dataframe thead th {\n",
       "        text-align: right;\n",
       "    }\n",
       "</style>\n",
       "<table border=\"1\" class=\"dataframe\">\n",
       "  <thead>\n",
       "    <tr style=\"text-align: right;\">\n",
       "      <th></th>\n",
       "      <th>Open</th>\n",
       "      <th>High</th>\n",
       "      <th>Low</th>\n",
       "      <th>Close</th>\n",
       "      <th>BTC Volume</th>\n",
       "      <th>USD Volume</th>\n",
       "      <th>Weighted Price</th>\n",
       "    </tr>\n",
       "    <tr>\n",
       "      <th>Timestamp</th>\n",
       "      <th></th>\n",
       "      <th></th>\n",
       "      <th></th>\n",
       "      <th></th>\n",
       "      <th></th>\n",
       "      <th></th>\n",
       "      <th></th>\n",
       "    </tr>\n",
       "  </thead>\n",
       "  <tbody>\n",
       "    <tr>\n",
       "      <th>2018-03-31 23:55:00</th>\n",
       "      <td>6935.01</td>\n",
       "      <td>6939.07</td>\n",
       "      <td>6922.56</td>\n",
       "      <td>$6922.56</td>\n",
       "      <td>1.044354</td>\n",
       "      <td>7240.034602</td>\n",
       "      <td>6932.550078</td>\n",
       "    </tr>\n",
       "    <tr>\n",
       "      <th>2018-03-31 23:56:00</th>\n",
       "      <td>6922.02</td>\n",
       "      <td>6922.02</td>\n",
       "      <td>6918.00</td>\n",
       "      <td>$6920.32</td>\n",
       "      <td>3.069539</td>\n",
       "      <td>21245.076275</td>\n",
       "      <td>6921.260233</td>\n",
       "    </tr>\n",
       "    <tr>\n",
       "      <th>2018-03-31 23:57:00</th>\n",
       "      <td>6920.33</td>\n",
       "      <td>6936.42</td>\n",
       "      <td>6920.33</td>\n",
       "      <td>$6934.72</td>\n",
       "      <td>28.239049</td>\n",
       "      <td>195789.408220</td>\n",
       "      <td>6933.286106</td>\n",
       "    </tr>\n",
       "    <tr>\n",
       "      <th>2018-03-31 23:58:00</th>\n",
       "      <td>6927.65</td>\n",
       "      <td>6929.42</td>\n",
       "      <td>6927.65</td>\n",
       "      <td>$6927.65</td>\n",
       "      <td>0.839507</td>\n",
       "      <td>5817.007705</td>\n",
       "      <td>6929.080007</td>\n",
       "    </tr>\n",
       "    <tr>\n",
       "      <th>2018-03-31 23:59:00</th>\n",
       "      <td>6929.98</td>\n",
       "      <td>6929.98</td>\n",
       "      <td>6928.00</td>\n",
       "      <td>$6928.01</td>\n",
       "      <td>0.209363</td>\n",
       "      <td>1450.735763</td>\n",
       "      <td>6929.289993</td>\n",
       "    </tr>\n",
       "  </tbody>\n",
       "</table>\n",
       "</div>"
      ],
      "text/plain": [
       "                        Open     High      Low     Close  BTC Volume  \\\n",
       "Timestamp                                                              \n",
       "2018-03-31 23:55:00  6935.01  6939.07  6922.56  $6922.56    1.044354   \n",
       "2018-03-31 23:56:00  6922.02  6922.02  6918.00  $6920.32    3.069539   \n",
       "2018-03-31 23:57:00  6920.33  6936.42  6920.33  $6934.72   28.239049   \n",
       "2018-03-31 23:58:00  6927.65  6929.42  6927.65  $6927.65    0.839507   \n",
       "2018-03-31 23:59:00  6929.98  6929.98  6928.00  $6928.01    0.209363   \n",
       "\n",
       "                        USD Volume  Weighted Price  \n",
       "Timestamp                                           \n",
       "2018-03-31 23:55:00    7240.034602     6932.550078  \n",
       "2018-03-31 23:56:00   21245.076275     6921.260233  \n",
       "2018-03-31 23:57:00  195789.408220     6933.286106  \n",
       "2018-03-31 23:58:00    5817.007705     6929.080007  \n",
       "2018-03-31 23:59:00    1450.735763     6929.289993  "
      ]
     },
     "execution_count": 4,
     "metadata": {},
     "output_type": "execute_result"
    }
   ],
   "source": [
    "# Use the head (and/or tail) function to confirm that the data was imported properly.\n",
    "\n",
    "bitstamp.head()\n",
    "bitstamp.tail()"
   ]
  },
  {
   "cell_type": "markdown",
   "metadata": {},
   "source": [
    "### Step 3: Repeat Steps 1 and 2 for `coinbase.csv` file."
   ]
  },
  {
   "cell_type": "code",
   "execution_count": 5,
   "metadata": {},
   "outputs": [],
   "source": [
    "# Read in the CSV file called \"coinbase.csv\" using the Path module. \n",
    "# The CSV file is located in the Resources folder.\n",
    "# Set the index to the column \"Timestamp\"\n",
    "# Set the parse_dates and infer_datetime_format parameters\n",
    "\n",
    "csv_path = Path(\"Resources/coinbase.csv\")\n",
    "coinbase = pd.read_csv(csv_path,index_col = 'Timestamp', parse_dates= True, infer_datetime_format= True)\n"
   ]
  },
  {
   "cell_type": "code",
   "execution_count": 6,
   "metadata": {},
   "outputs": [
    {
     "data": {
      "text/html": [
       "<div>\n",
       "<style scoped>\n",
       "    .dataframe tbody tr th:only-of-type {\n",
       "        vertical-align: middle;\n",
       "    }\n",
       "\n",
       "    .dataframe tbody tr th {\n",
       "        vertical-align: top;\n",
       "    }\n",
       "\n",
       "    .dataframe thead th {\n",
       "        text-align: right;\n",
       "    }\n",
       "</style>\n",
       "<table border=\"1\" class=\"dataframe\">\n",
       "  <thead>\n",
       "    <tr style=\"text-align: right;\">\n",
       "      <th></th>\n",
       "      <th>Open</th>\n",
       "      <th>High</th>\n",
       "      <th>Low</th>\n",
       "      <th>Close</th>\n",
       "      <th>BTC Volume</th>\n",
       "      <th>USD Volume</th>\n",
       "      <th>Weighted Price</th>\n",
       "    </tr>\n",
       "    <tr>\n",
       "      <th>Timestamp</th>\n",
       "      <th></th>\n",
       "      <th></th>\n",
       "      <th></th>\n",
       "      <th></th>\n",
       "      <th></th>\n",
       "      <th></th>\n",
       "      <th></th>\n",
       "    </tr>\n",
       "  </thead>\n",
       "  <tbody>\n",
       "    <tr>\n",
       "      <th>2018-03-31 23:55:00</th>\n",
       "      <td>6945.20</td>\n",
       "      <td>6948.06</td>\n",
       "      <td>6930.00</td>\n",
       "      <td>$6930.0</td>\n",
       "      <td>5.802288</td>\n",
       "      <td>40243.918480</td>\n",
       "      <td>6935.869979</td>\n",
       "    </tr>\n",
       "    <tr>\n",
       "      <th>2018-03-31 23:56:00</th>\n",
       "      <td>6930.00</td>\n",
       "      <td>6930.01</td>\n",
       "      <td>6930.00</td>\n",
       "      <td>$6930.01</td>\n",
       "      <td>0.625053</td>\n",
       "      <td>4331.620701</td>\n",
       "      <td>6930.005567</td>\n",
       "    </tr>\n",
       "    <tr>\n",
       "      <th>2018-03-31 23:57:00</th>\n",
       "      <td>6930.01</td>\n",
       "      <td>6933.91</td>\n",
       "      <td>6930.01</td>\n",
       "      <td>$6933.91</td>\n",
       "      <td>0.776431</td>\n",
       "      <td>5382.532162</td>\n",
       "      <td>6932.405747</td>\n",
       "    </tr>\n",
       "    <tr>\n",
       "      <th>2018-03-31 23:58:00</th>\n",
       "      <td>6933.91</td>\n",
       "      <td>6938.00</td>\n",
       "      <td>6933.90</td>\n",
       "      <td>$6937.31</td>\n",
       "      <td>0.133413</td>\n",
       "      <td>925.356547</td>\n",
       "      <td>6936.048538</td>\n",
       "    </tr>\n",
       "    <tr>\n",
       "      <th>2018-03-31 23:59:00</th>\n",
       "      <td>6937.30</td>\n",
       "      <td>6937.30</td>\n",
       "      <td>6931.09</td>\n",
       "      <td>$6934.0</td>\n",
       "      <td>1.012720</td>\n",
       "      <td>7022.275088</td>\n",
       "      <td>6934.070316</td>\n",
       "    </tr>\n",
       "  </tbody>\n",
       "</table>\n",
       "</div>"
      ],
      "text/plain": [
       "                        Open     High      Low     Close  BTC Volume  \\\n",
       "Timestamp                                                              \n",
       "2018-03-31 23:55:00  6945.20  6948.06  6930.00   $6930.0    5.802288   \n",
       "2018-03-31 23:56:00  6930.00  6930.01  6930.00  $6930.01    0.625053   \n",
       "2018-03-31 23:57:00  6930.01  6933.91  6930.01  $6933.91    0.776431   \n",
       "2018-03-31 23:58:00  6933.91  6938.00  6933.90  $6937.31    0.133413   \n",
       "2018-03-31 23:59:00  6937.30  6937.30  6931.09   $6934.0    1.012720   \n",
       "\n",
       "                       USD Volume  Weighted Price  \n",
       "Timestamp                                          \n",
       "2018-03-31 23:55:00  40243.918480     6935.869979  \n",
       "2018-03-31 23:56:00   4331.620701     6930.005567  \n",
       "2018-03-31 23:57:00   5382.532162     6932.405747  \n",
       "2018-03-31 23:58:00    925.356547     6936.048538  \n",
       "2018-03-31 23:59:00   7022.275088     6934.070316  "
      ]
     },
     "execution_count": 6,
     "metadata": {},
     "output_type": "execute_result"
    }
   ],
   "source": [
    "# Use the head (and/or tail) function to confirm that the data was imported properly.\n",
    "\n",
    "coinbase.head()\n",
    "coinbase.tail()"
   ]
  },
  {
   "cell_type": "markdown",
   "metadata": {},
   "source": [
    "## Prepare the Data\n",
    "\n",
    "To prepare and clean your data for analysis, complete the following steps:\n",
    "\n",
    "1. For the bitstamp DataFrame, replace or drop all `NaN`, or missing, values in the DataFrame.\n",
    "\n",
    "2. Use the `str.replace` function to remove the dollar signs ($) from the values in the Close column.\n",
    "\n",
    "3. Convert the data type of the Close column to a `float`.\n",
    "\n",
    "4. Review the data for duplicated values, and drop them if necessary.\n",
    "\n",
    "5. Repeat Steps 1–4 for the coinbase DataFrame."
   ]
  },
  {
   "cell_type": "markdown",
   "metadata": {},
   "source": [
    "### Step 1: For the bitstamp DataFrame, replace or drop all `NaN`, or missing, values in the DataFrame."
   ]
  },
  {
   "cell_type": "code",
   "execution_count": 7,
   "metadata": {},
   "outputs": [],
   "source": [
    "# For the bitstamp DataFrame, replace or drop all NaNs or missing values in the DataFrame\n",
    "\n",
    "bitstamp.dropna(inplace= True)"
   ]
  },
  {
   "cell_type": "markdown",
   "metadata": {},
   "source": [
    "### Step 2: Use the `str.replace` function to remove the dollar signs ($) from the values in the Close column."
   ]
  },
  {
   "cell_type": "code",
   "execution_count": 8,
   "metadata": {},
   "outputs": [
    {
     "data": {
      "text/html": [
       "<div>\n",
       "<style scoped>\n",
       "    .dataframe tbody tr th:only-of-type {\n",
       "        vertical-align: middle;\n",
       "    }\n",
       "\n",
       "    .dataframe tbody tr th {\n",
       "        vertical-align: top;\n",
       "    }\n",
       "\n",
       "    .dataframe thead th {\n",
       "        text-align: right;\n",
       "    }\n",
       "</style>\n",
       "<table border=\"1\" class=\"dataframe\">\n",
       "  <thead>\n",
       "    <tr style=\"text-align: right;\">\n",
       "      <th></th>\n",
       "      <th>Open</th>\n",
       "      <th>High</th>\n",
       "      <th>Low</th>\n",
       "      <th>Close</th>\n",
       "      <th>BTC Volume</th>\n",
       "      <th>USD Volume</th>\n",
       "      <th>Weighted Price</th>\n",
       "    </tr>\n",
       "    <tr>\n",
       "      <th>Timestamp</th>\n",
       "      <th></th>\n",
       "      <th></th>\n",
       "      <th></th>\n",
       "      <th></th>\n",
       "      <th></th>\n",
       "      <th></th>\n",
       "      <th></th>\n",
       "    </tr>\n",
       "  </thead>\n",
       "  <tbody>\n",
       "    <tr>\n",
       "      <th>2018-01-01 00:00:00</th>\n",
       "      <td>13681.04</td>\n",
       "      <td>13681.04</td>\n",
       "      <td>13637.93</td>\n",
       "      <td>13646.48</td>\n",
       "      <td>3.334553</td>\n",
       "      <td>45482.128785</td>\n",
       "      <td>13639.647479</td>\n",
       "    </tr>\n",
       "    <tr>\n",
       "      <th>2018-01-01 00:01:00</th>\n",
       "      <td>13646.48</td>\n",
       "      <td>13658.75</td>\n",
       "      <td>13610.18</td>\n",
       "      <td>13658.75</td>\n",
       "      <td>2.663188</td>\n",
       "      <td>36361.390888</td>\n",
       "      <td>13653.332816</td>\n",
       "    </tr>\n",
       "    <tr>\n",
       "      <th>2018-01-01 00:02:00</th>\n",
       "      <td>13616.93</td>\n",
       "      <td>13616.93</td>\n",
       "      <td>13610.06</td>\n",
       "      <td>13610.22</td>\n",
       "      <td>0.084653</td>\n",
       "      <td>1152.144036</td>\n",
       "      <td>13610.136247</td>\n",
       "    </tr>\n",
       "    <tr>\n",
       "      <th>2018-01-01 00:03:00</th>\n",
       "      <td>13610.27</td>\n",
       "      <td>13639.09</td>\n",
       "      <td>13610.27</td>\n",
       "      <td>13639.09</td>\n",
       "      <td>7.182986</td>\n",
       "      <td>97856.416478</td>\n",
       "      <td>13623.361128</td>\n",
       "    </tr>\n",
       "    <tr>\n",
       "      <th>2018-01-01 00:04:00</th>\n",
       "      <td>13635.35</td>\n",
       "      <td>13636.35</td>\n",
       "      <td>13620.00</td>\n",
       "      <td>13620.0</td>\n",
       "      <td>1.069665</td>\n",
       "      <td>14582.660932</td>\n",
       "      <td>13632.923329</td>\n",
       "    </tr>\n",
       "  </tbody>\n",
       "</table>\n",
       "</div>"
      ],
      "text/plain": [
       "                         Open      High       Low     Close  BTC Volume  \\\n",
       "Timestamp                                                                 \n",
       "2018-01-01 00:00:00  13681.04  13681.04  13637.93  13646.48    3.334553   \n",
       "2018-01-01 00:01:00  13646.48  13658.75  13610.18  13658.75    2.663188   \n",
       "2018-01-01 00:02:00  13616.93  13616.93  13610.06  13610.22    0.084653   \n",
       "2018-01-01 00:03:00  13610.27  13639.09  13610.27  13639.09    7.182986   \n",
       "2018-01-01 00:04:00  13635.35  13636.35  13620.00   13620.0    1.069665   \n",
       "\n",
       "                       USD Volume  Weighted Price  \n",
       "Timestamp                                          \n",
       "2018-01-01 00:00:00  45482.128785    13639.647479  \n",
       "2018-01-01 00:01:00  36361.390888    13653.332816  \n",
       "2018-01-01 00:02:00   1152.144036    13610.136247  \n",
       "2018-01-01 00:03:00  97856.416478    13623.361128  \n",
       "2018-01-01 00:04:00  14582.660932    13632.923329  "
      ]
     },
     "execution_count": 8,
     "metadata": {},
     "output_type": "execute_result"
    }
   ],
   "source": [
    "# Use the str.replace function to remove the dollar sign, $\n",
    "\n",
    "bitstamp['Close'] = bitstamp['Close'].str.replace('$', '', regex =False)\n",
    "bitstamp.head()"
   ]
  },
  {
   "cell_type": "markdown",
   "metadata": {},
   "source": [
    "### Step 3: Convert the data type of the Close column to a `float`."
   ]
  },
  {
   "cell_type": "code",
   "execution_count": 9,
   "metadata": {},
   "outputs": [
    {
     "data": {
      "text/plain": [
       "Open              float64\n",
       "High              float64\n",
       "Low               float64\n",
       "Close             float64\n",
       "BTC Volume        float64\n",
       "USD Volume        float64\n",
       "Weighted Price    float64\n",
       "dtype: object"
      ]
     },
     "execution_count": 9,
     "metadata": {},
     "output_type": "execute_result"
    }
   ],
   "source": [
    "# Convert the Close data type to a float\n",
    "\n",
    "bitstamp['Close'] = bitstamp['Close'].astype('float')\n",
    "bitstamp.dtypes"
   ]
  },
  {
   "cell_type": "markdown",
   "metadata": {},
   "source": [
    "### Step 4: Review the data for duplicated values, and drop them if necessary."
   ]
  },
  {
   "cell_type": "code",
   "execution_count": 10,
   "metadata": {},
   "outputs": [
    {
     "name": "stdout",
     "output_type": "stream",
     "text": [
      "No duplicates were found\n"
     ]
    }
   ],
   "source": [
    "# Review the data for duplicate values, and drop them if necessary\n",
    "\n",
    "if bitstamp.duplicated().sum() != 0:\n",
    "    print('The duplicate values hav been deleted')\n",
    "    bitstamp.drop_duplicates(inplace=true)\n",
    "else:\n",
    "    print('No duplicates were found')\n"
   ]
  },
  {
   "cell_type": "markdown",
   "metadata": {},
   "source": [
    "### Step 5: Repeat Steps 1–4 for the coinbase DataFrame."
   ]
  },
  {
   "cell_type": "code",
   "execution_count": 11,
   "metadata": {},
   "outputs": [
    {
     "name": "stdout",
     "output_type": "stream",
     "text": [
      "No duplicates were found\n"
     ]
    }
   ],
   "source": [
    "# Repeat Steps 1–4 for the coinbase DataFrame\n",
    "\n",
    "coinbase.dropna(inplace=True)\n",
    "coinbase['Close'] = coinbase['Close'].str.replace('$', '', regex=False)\n",
    "coinbase['Close'] = coinbase['Close'].astype('float')\n",
    "\n",
    "if coinbase.duplicated().sum() != 0:\n",
    "    coinbase.duplicated()\n",
    "    print(\"Duplicate values deleted.\")\n",
    "    coinbase.drop_duplicates(inplace=True)\n",
    "else:\n",
    "    print('No duplicates were found')"
   ]
  },
  {
   "cell_type": "markdown",
   "metadata": {},
   "source": [
    "## Analyze the Data\n",
    "\n",
    "Your analysis consists of the following tasks: \n",
    "\n",
    "1. Choose the columns of data on which to focus your analysis.\n",
    "\n",
    "2. Get the summary statistics and plot the data.\n",
    "\n",
    "3. Focus your analysis on specific dates.\n",
    "\n",
    "4. Calculate the arbitrage profits."
   ]
  },
  {
   "cell_type": "markdown",
   "metadata": {},
   "source": [
    "### Step 1: Choose columns of data on which to focus your analysis.\n",
    "\n",
    "Select the data you want to analyze. Use `loc` or `iloc` to select the following columns of data for both the bitstamp and coinbase DataFrames:\n",
    "\n",
    "* Timestamp (index)\n",
    "\n",
    "* Close\n"
   ]
  },
  {
   "cell_type": "code",
   "execution_count": 12,
   "metadata": {},
   "outputs": [
    {
     "data": {
      "text/plain": [
       "Timestamp\n",
       "2018-01-01 00:00:00    13646.48\n",
       "2018-01-01 00:01:00    13658.75\n",
       "2018-01-01 00:02:00    13610.22\n",
       "2018-01-01 00:03:00    13639.09\n",
       "2018-01-01 00:04:00    13620.00\n",
       "Name: Close, dtype: float64"
      ]
     },
     "execution_count": 12,
     "metadata": {},
     "output_type": "execute_result"
    }
   ],
   "source": [
    "# Use loc or iloc to select `Timestamp (the index)` and `Close` from bitstamp DataFrame\n",
    "\n",
    "bitstamp_sliced = bitstamp.loc[:, 'Close']\n",
    "\n",
    "# Review the first five rows of the DataFrame\n",
    "\n",
    "bitstamp_sliced.head()"
   ]
  },
  {
   "cell_type": "code",
   "execution_count": 13,
   "metadata": {},
   "outputs": [
    {
     "data": {
      "text/plain": [
       "Timestamp\n",
       "2018-01-01 00:00:00    13608.49\n",
       "2018-01-01 00:01:00    13601.66\n",
       "2018-01-01 00:02:00    13580.00\n",
       "2018-01-01 00:03:00    13550.34\n",
       "2018-01-01 00:04:00    13583.44\n",
       "Name: Close, dtype: float64"
      ]
     },
     "execution_count": 13,
     "metadata": {},
     "output_type": "execute_result"
    }
   ],
   "source": [
    "# Use loc or iloc to select `Timestamp (the index)` and `Close` from coinbase DataFrame\n",
    "coinbase_sliced = coinbase.loc[:, 'Close']\n",
    "\n",
    "coinbase_sliced = coinbase.loc[:, 'Close']\n",
    "# Review the first five rows of the DataFrame\n",
    "coinbase_sliced.head()"
   ]
  },
  {
   "cell_type": "markdown",
   "metadata": {},
   "source": [
    "### Step 2: Get summary statistics and plot the data.\n",
    "\n",
    "Sort through the time series data associated with the bitstamp and coinbase DataFrames to identify potential arbitrage opportunities. To do so, complete the following steps:\n",
    "\n",
    "1. Generate the summary statistics for each DataFrame by using the `describe` function.\n",
    "\n",
    "2. For each DataFrame, create a line plot for the full period of time in the dataset. Be sure to tailor the figure size, title, and color to each visualization.\n",
    "\n",
    "3. In one plot, overlay the visualizations that you created in Step 2 for bitstamp and coinbase. Be sure to adjust the legend and title for this new visualization.\n",
    "\n",
    "4. Using the `loc` and `plot` functions, plot the price action of the assets on each exchange for different dates and times. Your goal is to evaluate how the spread between the two exchanges changed across the time period that the datasets define. Did the degree of spread change as time progressed?"
   ]
  },
  {
   "cell_type": "code",
   "execution_count": 14,
   "metadata": {},
   "outputs": [
    {
     "data": {
      "text/plain": [
       "count    129067.000000\n",
       "mean      10459.842453\n",
       "std        2315.976088\n",
       "min        5944.000000\n",
       "25%        8613.370000\n",
       "50%       10145.950000\n",
       "75%       11444.810000\n",
       "max       17234.980000\n",
       "Name: Close, dtype: float64"
      ]
     },
     "execution_count": 14,
     "metadata": {},
     "output_type": "execute_result"
    }
   ],
   "source": [
    "# Generate the summary statistics for the bitstamp DataFrame\n",
    "\n",
    "bitstamp_sliced.describe()"
   ]
  },
  {
   "cell_type": "code",
   "execution_count": 15,
   "metadata": {},
   "outputs": [
    {
     "data": {
      "text/plain": [
       "count    129322.000000\n",
       "mean      10449.140958\n",
       "std        2317.197419\n",
       "min        5882.310000\n",
       "25%        8609.230000\n",
       "50%       10137.440000\n",
       "75%       11397.237500\n",
       "max       17177.990000\n",
       "Name: Close, dtype: float64"
      ]
     },
     "execution_count": 15,
     "metadata": {},
     "output_type": "execute_result"
    }
   ],
   "source": [
    "# Generate the summary statistics for the coinbase DataFrame\n",
    "coinbase_sliced.describe()"
   ]
  },
  {
   "cell_type": "code",
   "execution_count": 16,
   "metadata": {},
   "outputs": [
    {
     "data": {
      "text/plain": [
       "<AxesSubplot:title={'center':'Bitstamp Close Prices'}, xlabel='Timestamp'>"
      ]
     },
     "execution_count": 16,
     "metadata": {},
     "output_type": "execute_result"
    },
    {
     "data": {
      "image/png": "[encoded data removed]",
      "text/plain": [
       "<Figure size 720x360 with 1 Axes>"
      ]
     },
     "metadata": {
      "needs_background": "light"
     },
     "output_type": "display_data"
    }
   ],
   "source": [
    "# Create a line plot for the bitstamp DataFrame for the full length of time in the dataset \n",
    "# Be sure that the figure size, title, and color are tailored to each visualization\n",
    "bitstamp_sliced.plot(figsize=(10,5), title=\"Bitstamp Close Prices\", color='blue')\n"
   ]
  },
  {
   "cell_type": "code",
   "execution_count": 17,
   "metadata": {},
   "outputs": [
    {
     "data": {
      "text/plain": [
       "<AxesSubplot:title={'center':'Coinbase Close Prices'}, xlabel='Timestamp'>"
      ]
     },
     "execution_count": 17,
     "metadata": {},
     "output_type": "execute_result"
    },
    {
     "data": {
      "image/png": "[encoded data removed]",
      "text/plain": [
       "<Figure size 720x360 with 1 Axes>"
      ]
     },
     "metadata": {
      "needs_background": "light"
     },
     "output_type": "display_data"
    }
   ],
   "source": [
    "# Create a line plot for the coinbase DataFrame for the full length of time in the dataset \n",
    "# Be sure that the figure size, title, and color are tailored to each visualization\n",
    "coinbase_sliced.plot(figsize=(10,5), title=\"Coinbase Close Prices\", color='orange')\n"
   ]
  },
  {
   "cell_type": "code",
   "execution_count": 18,
   "metadata": {},
   "outputs": [
    {
     "data": {
      "text/plain": [
       "<AxesSubplot:title={'center':'Bitstamp & Coinbase Close Prices'}, xlabel='Timestamp'>"
      ]
     },
     "execution_count": 18,
     "metadata": {},
     "output_type": "execute_result"
    },
    {
     "data": {
      "image/png": "[encoded data removed]",
      "text/plain": [
       "<Figure size 720x360 with 1 Axes>"
      ]
     },
     "metadata": {
      "needs_background": "light"
     },
     "output_type": "display_data"
    }
   ],
   "source": [
    "# Overlay the visualizations for the bitstamp and coinbase DataFrames in one plot\n",
    "# The plot should visualize the prices over the full length title, and color and label\n",
    "bitstamp_sliced.plot(figsize=(10,5), title='Bitstamp & Coinbase Close Prices', color='blue', legend=True, label='Bitstamp')\n",
    "coinbase_sliced.plot(figsize=(10,5), color='orange', legend=True, label='Coinbase')"
   ]
  },
  {
   "cell_type": "code",
   "execution_count": 19,
   "metadata": {},
   "outputs": [
    {
     "data": {
      "text/plain": [
       "<AxesSubplot:title={'center':'Closing Prices from 2018-01-01 to 2018-01-31'}, xlabel='Timestamp'>"
      ]
     },
     "execution_count": 19,
     "metadata": {},
     "output_type": "execute_result"
    },
    {
     "data": {
      "image/png": "[encoded data removed]",
      "text/plain": [
       "<Figure size 720x360 with 1 Axes>"
      ]
     },
     "metadata": {
      "needs_background": "light"
     },
     "output_type": "display_data"
    }
   ],
   "source": [
    "# Using the loc and plot functions, create an overlay plot that visualizes \n",
    "# the price action of both DataFrames for a one month period early in the dataset\n",
    "# Be sure to include the parameters: legend, figure size, title, and color and label\n",
    "start_date = \"2018-01-01\"\n",
    "end_date = \"2018-01-31\"\n",
    "\n",
    "title = f'Closing Prices from {start_date} to {end_date}'\n",
    "bitstamp_sliced.loc[start_date:end_date].plot(figsize=(10,5), title=title, color='blue', legend=True, label='Bitstamp')\n",
    "coinbase_sliced.loc[start_date:end_date].plot(figsize=(10,5), color='orange', legend=True, label='Coinbase')\n"
   ]
  },
  {
   "cell_type": "code",
   "execution_count": 20,
   "metadata": {},
   "outputs": [
    {
     "data": {
      "text/plain": [
       "<AxesSubplot:title={'center':'Closing Prices from 2018-02-01 to 2018-02-28'}, xlabel='Timestamp'>"
      ]
     },
     "execution_count": 20,
     "metadata": {},
     "output_type": "execute_result"
    },
    {
     "data": {
      "image/png": "[encoded data removed]",
      "text/plain": [
       "<Figure size 720x360 with 1 Axes>"
      ]
     },
     "metadata": {
      "needs_background": "light"
     },
     "output_type": "display_data"
    }
   ],
   "source": [
    "# Using the loc and plot functions, create an overlay plot that visualizes \n",
    "# the price action of both DataFrames for a one month period later in the dataset\n",
    "# Be sure to include the parameters: legend, figure size, title, and color and label \n",
    "start_date = \"2018-02-01\"\n",
    "end_date = \"2018-02-28\"\n",
    "\n",
    "title = f'Closing Prices from {start_date} to {end_date}'\n",
    "bitstamp_sliced.loc[start_date:end_date].plot(figsize=(10,5), title=title, color='blue', legend=True, label='Bitstamp')\n",
    "coinbase_sliced.loc[start_date:end_date].plot(figsize=(10,5), color='orange', legend=True, label='Coinbase')"
   ]
  },
  {
   "cell_type": "markdown",
   "metadata": {},
   "source": [
    "**Question** Based on the visualizations of the different time periods, has the degree of spread change as time progressed?\n",
    "\n",
    "**Answer** YOUR ANSWER HERE"
   ]
  },
  {
   "cell_type": "markdown",
   "metadata": {},
   "source": [
    "The visualizations show sightly more spread near the start compared to the end. There is a slight decrease in spread over this time period. "
   ]
  },
  {
   "cell_type": "markdown",
   "metadata": {},
   "source": [
    "### Step 3: Focus Your Analysis on Specific Dates\n",
    "\n",
    "Focus your analysis on specific dates by completing the following steps:\n",
    "\n",
    "1. Select three dates to evaluate for arbitrage profitability. Choose one date that’s early in the dataset, one from the middle of the dataset, and one from the later part of the time period.\n",
    "\n",
    "2. For each of the three dates, generate the summary statistics and then create a box plot. This big-picture view is meant to help you gain a better understanding of the data before you perform your arbitrage calculations. As you compare the data, what conclusions can you draw?"
   ]
  },
  {
   "cell_type": "code",
   "execution_count": 21,
   "metadata": {},
   "outputs": [
    {
     "data": {
      "text/plain": [
       "<AxesSubplot:title={'center':'Closing Prices from 2018-02-01 to 2018-02-28'}, xlabel='Timestamp'>"
      ]
     },
     "execution_count": 21,
     "metadata": {},
     "output_type": "execute_result"
    },
    {
     "data": {
      "image/png": "[encoded data removed]",
      "text/plain": [
       "<Figure size 720x360 with 1 Axes>"
      ]
     },
     "metadata": {
      "needs_background": "light"
     },
     "output_type": "display_data"
    }
   ],
   "source": [
    "# Create an overlay plot that visualizes the two dataframes over a period of one day early in the dataset. \n",
    "# Be sure that the plots include the parameters `legend`, `figsize`, `title`, `color` and `label` \n",
    "early_start_date = '2018-01-04'\n",
    "early_end_date = '2018-01-04'\n",
    "title = f'Closing Prices from {start_date} to {end_date}'\n",
    "\n",
    "bitstamp_early_date = bitstamp_sliced.loc[early_start_date:early_end_date]\n",
    "bitstamp_early_date.plot(figsize=(10,5), legend=True, title=title, color='blue', label='Bitstamp')\n",
    "\n",
    "coinbase_early_date = coinbase_sliced.loc[early_start_date:early_end_date]\n",
    "coinbase_early_date.plot(figsize=(10,5), legend=True, color='orange', label='Coinbase')\n"
   ]
  },
  {
   "cell_type": "code",
   "execution_count": 22,
   "metadata": {
    "tags": []
   },
   "outputs": [
    {
     "data": {
      "text/plain": [
       "count    1440.00000\n",
       "mean      -28.73225\n",
       "std        50.00892\n",
       "min      -240.00000\n",
       "25%       -59.96750\n",
       "50%       -29.64500\n",
       "75%         6.50500\n",
       "max       159.12000\n",
       "Name: Close, dtype: float64"
      ]
     },
     "execution_count": 22,
     "metadata": {},
     "output_type": "execute_result"
    }
   ],
   "source": [
    "# Using the early date that you have selected, calculate the arbitrage spread \n",
    "# by subtracting the bitstamp lower closing prices from the coinbase higher closing prices\n",
    "arbitrage_spread_early = bitstamp_early_date - coinbase_early_date\n",
    "\n",
    "# Generate summary statistics for the early DataFrame\n",
    "arbitrage_spread_early.describe()"
   ]
  },
  {
   "cell_type": "code",
   "execution_count": 23,
   "metadata": {},
   "outputs": [
    {
     "data": {
      "text/plain": [
       "<AxesSubplot:title={'center':'Arbitrage Spread: 2018-01-04'}>"
      ]
     },
     "execution_count": 23,
     "metadata": {},
     "output_type": "execute_result"
    },
    {
     "data": {
      "image/png": "[encoded data removed]",
      "text/plain": [
       "<Figure size 432x288 with 1 Axes>"
      ]
     },
     "metadata": {
      "needs_background": "light"
     },
     "output_type": "display_data"
    }
   ],
   "source": [
    "# Visualize the arbitrage spread from early in the dataset in a box plot\n",
    "arbitrage_spread_early.plot(kind='box', title=f'Arbitrage Spread: {early_start_date}')"
   ]
  },
  {
   "cell_type": "code",
   "execution_count": 24,
   "metadata": {},
   "outputs": [
    {
     "data": {
      "text/plain": [
       "<AxesSubplot:title={'center':'Closing Prices on 2018-02-15'}, xlabel='Timestamp'>"
      ]
     },
     "execution_count": 24,
     "metadata": {},
     "output_type": "execute_result"
    },
    {
     "data": {
      "image/png": "[encoded data removed]",
      "text/plain": [
       "<Figure size 720x360 with 1 Axes>"
      ]
     },
     "metadata": {
      "needs_background": "light"
     },
     "output_type": "display_data"
    }
   ],
   "source": [
    "# Create an overlay plot that visualizes the two dataframes over a period of one day from the middle of the dataset. \n",
    "# Be sure that the plots include the parameters `legend`, `figsize`, `title`, `color` and `label` \n",
    "middle_start_date = \"2018-02-15\"\n",
    "middle_end_date = \"2018-02-15\"\n",
    "title = f\"Closing Prices on {middle_start_date}\"\n",
    "\n",
    "bitstamp_middle_date = bitstamp_sliced.loc[middle_start_date:middle_end_date]\n",
    "bitstamp_middle_date.plot(figsize=(10,5), title=title, color=\"blue\", legend=True, label=\"Bitstamp\")\n",
    "\n",
    "coinbase_middle_date = coinbase_sliced.loc[middle_start_date:middle_end_date]\n",
    "coinbase_middle_date.plot(figsize=(10,5), color=\"orange\", legend=True, label=\"Coinbase\")"
   ]
  },
  {
   "cell_type": "code",
   "execution_count": 25,
   "metadata": {},
   "outputs": [
    {
     "data": {
      "text/plain": [
       "count    1440.000000\n",
       "mean        5.760007\n",
       "std        14.908671\n",
       "min       -48.800000\n",
       "25%        -3.995000\n",
       "50%         6.960000\n",
       "75%        16.217500\n",
       "max        55.470000\n",
       "Name: Close, dtype: float64"
      ]
     },
     "execution_count": 25,
     "metadata": {},
     "output_type": "execute_result"
    }
   ],
   "source": [
    "# Using the date in the middle that you have selected, calculate the arbitrage spread \n",
    "# by subtracting the bitstamp lower closing prices from the coinbase higher closing prices\n",
    "arbitrage_spread_middle = bitstamp_middle_date - coinbase_middle_date\n",
    "\n",
    "# Generate summary statistics \n",
    "arbitrage_spread_middle.describe()"
   ]
  },
  {
   "cell_type": "code",
   "execution_count": 26,
   "metadata": {},
   "outputs": [
    {
     "data": {
      "text/plain": [
       "<AxesSubplot:title={'center':'Arbitrage Spread:  2018-02-15'}>"
      ]
     },
     "execution_count": 26,
     "metadata": {},
     "output_type": "execute_result"
    },
    {
     "data": {
      "image/png": "[encoded data removed]",
      "text/plain": [
       "<Figure size 432x288 with 1 Axes>"
      ]
     },
     "metadata": {
      "needs_background": "light"
     },
     "output_type": "display_data"
    }
   ],
   "source": [
    "# Visualize the arbitrage spread from the middle of the dataset in a box plot\n",
    "arbitrage_spread_middle.plot(kind='box', title = f'Arbitrage Spread:  {middle_start_date}')"
   ]
  },
  {
   "cell_type": "code",
   "execution_count": 27,
   "metadata": {},
   "outputs": [
    {
     "data": {
      "text/plain": [
       "<AxesSubplot:title={'center':'Closing Prices on 2018-02-15'}, xlabel='Timestamp'>"
      ]
     },
     "execution_count": 27,
     "metadata": {},
     "output_type": "execute_result"
    },
    {
     "data": {
      "image/png": "[encoded data removed]",
      "text/plain": [
       "<Figure size 720x360 with 1 Axes>"
      ]
     },
     "metadata": {
      "needs_background": "light"
     },
     "output_type": "display_data"
    }
   ],
   "source": [
    "# Create an overlay plot that visualizes the two dataframes over a period of one day from late in the dataset. \n",
    "# Be sure that the plots include the parameters `legend`, `figsize`, `title`, `color` and `label` \n",
    "late_start_date = \"2018-03-29\"\n",
    "late_end_date = \"2018-03-29\"\n",
    "title = f\"Closing Prices on {middle_start_date}\"\n",
    "\n",
    "bitstamp_late_date = bitstamp_sliced.loc[middle_start_date:middle_end_date]\n",
    "bitstamp_late_date.plot(figsize=(10,5), title=title, color=\"blue\", legend=True, label=\"Bitstamp\")\n",
    "\n",
    "coinbase_late_date = coinbase_sliced.loc[middle_start_date:middle_end_date]\n",
    "coinbase_late_date.plot(figsize=(10,5), color=\"orange\", legend=True, label=\"Coinbase\")"
   ]
  },
  {
   "cell_type": "code",
   "execution_count": 28,
   "metadata": {},
   "outputs": [
    {
     "data": {
      "text/plain": [
       "count    1440.000000\n",
       "mean        5.760007\n",
       "std        14.908671\n",
       "min       -48.800000\n",
       "25%        -3.995000\n",
       "50%         6.960000\n",
       "75%        16.217500\n",
       "max        55.470000\n",
       "Name: Close, dtype: float64"
      ]
     },
     "execution_count": 28,
     "metadata": {},
     "output_type": "execute_result"
    }
   ],
   "source": [
    "# Using the date from the late that you have selected, calculate the arbitrage spread \n",
    "# by subtracting the bitstamp lower closing prices from the coinbase higher closing prices\n",
    "arbitrage_spread_late = bitstamp_late_date - coinbase_late_date\n",
    "\n",
    "# Generate summary statistics for the late DataFrame\n",
    "arbitrage_spread_late.describe()"
   ]
  },
  {
   "cell_type": "code",
   "execution_count": 29,
   "metadata": {},
   "outputs": [
    {
     "data": {
      "text/plain": [
       "<AxesSubplot:title={'center':'Arbitrage Spread: 2018-03-29'}>"
      ]
     },
     "execution_count": 29,
     "metadata": {},
     "output_type": "execute_result"
    },
    {
     "data": {
      "image/png": "[encoded data removed]",
      "text/plain": [
       "<Figure size 432x288 with 1 Axes>"
      ]
     },
     "metadata": {
      "needs_background": "light"
     },
     "output_type": "display_data"
    }
   ],
   "source": [
    "# Visualize the arbitrage spread from late in the dataset in a box plot\n",
    "arbitrage_spread_late.plot(kind='box', title= f'Arbitrage Spread: {late_start_date}')"
   ]
  },
  {
   "cell_type": "markdown",
   "metadata": {},
   "source": [
    "### Step 4: Calculate the Arbitrage Profits\n",
    "\n",
    "Calculate the potential profits for each date that you selected in the previous section. Your goal is to determine whether arbitrage opportunities still exist in the Bitcoin market. Complete the following steps:\n",
    "\n",
    "1. For each of the three dates, measure the arbitrage spread between the two exchanges by subtracting the lower-priced exchange from the higher-priced one. Then use a conditional statement to generate the summary statistics for each arbitrage_spread DataFrame, where the spread is greater than zero.\n"
   ]
  },
  {
   "cell_type": "markdown",
   "metadata": {},
   "source": [
    "\n",
    "\n",
    "2. For each of the three dates, calculate the spread returns. To do so, divide the instances that have a positive arbitrage spread (that is, a spread greater than zero) by the price of Bitcoin from the exchange you’re buying on (that is, the lower-priced exchange). Review the resulting DataFrame.\n",
    "\n",
    "\n",
    "3. For each of the three dates, narrow down your trading opportunities even further. To do so, determine the number of times your trades with positive returns exceed the 1% minimum threshold that you need to cover your costs.\n",
    "\n",
    "\n",
    "4. Generate the summary statistics of your spread returns that are greater than 1%. How do the average returns compare among the three dates?\n",
    "\n",
    "5. For each of the three dates, calculate the potential profit, in dollars, per trade. To do so, multiply the spread returns that were greater than 1% by the cost of what was purchased. Make sure to drop any missing values from the resulting DataFrame.\n",
    "\n",
    "6. Generate the summary statistics, and plot the results for each of the three DataFrames.\n",
    "\n",
    "7. Calculate the potential arbitrage profits that you can make on each day. To do so, sum the elements in the profit_per_trade DataFrame.\n",
    "\n",
    "8. Using the `cumsum` function, plot the cumulative sum of each of the three DataFrames. Can you identify any patterns or trends in the profits across the three time periods?\n",
    "\n",
    "(NOTE: The starter code displays only one date. You'll want to do this analysis for two additional dates)."
   ]
  },
  {
   "cell_type": "markdown",
   "metadata": {},
   "source": [
    "#### 1. For each of the three dates, measure the arbitrage spread between the two exchanges by subtracting the lower-priced exchange from the higher-priced one. Then use a conditional statement to generate the summary statistics for each arbitrage_spread DataFrame, where the spread is greater than zero.\n",
    "\n",
    "*NOTE*: For illustration, only one of the three dates is shown in the starter code below."
   ]
  },
  {
   "cell_type": "code",
   "execution_count": 45,
   "metadata": {},
   "outputs": [
    {
     "name": "stdout",
     "output_type": "stream",
     "text": [
      "\n",
      "Arbitrage spread on 2018-01-04\n",
      "Coinbase averaged higher than Bitstamp\n"
     ]
    },
    {
     "data": {
      "text/plain": [
       "count    1440.00000\n",
       "mean       28.73225\n",
       "std        50.00892\n",
       "min      -159.12000\n",
       "25%        -6.50500\n",
       "50%        29.64500\n",
       "75%        59.96750\n",
       "max       240.00000\n",
       "Name: Close, dtype: float64"
      ]
     },
     "metadata": {},
     "output_type": "display_data"
    },
    {
     "name": "stdout",
     "output_type": "stream",
     "text": [
      "\n",
      "Arbitrage spread on 2018-02-15\n",
      "Bitstamp averaged higher than Coinbase\n"
     ]
    },
    {
     "data": {
      "text/plain": [
       "count    1440.000000\n",
       "mean        5.760007\n",
       "std        14.908671\n",
       "min       -48.800000\n",
       "25%        -3.995000\n",
       "50%         6.960000\n",
       "75%        16.217500\n",
       "max        55.470000\n",
       "Name: Close, dtype: float64"
      ]
     },
     "metadata": {},
     "output_type": "display_data"
    },
    {
     "name": "stdout",
     "output_type": "stream",
     "text": [
      "\n",
      "Arbitrage spread on 2018-03-29\n",
      "Bitstamp averaged higher than Coinbase\n"
     ]
    },
    {
     "data": {
      "text/plain": [
       "count    1440.000000\n",
       "mean        5.760007\n",
       "std        14.908671\n",
       "min       -48.800000\n",
       "25%        -3.995000\n",
       "50%         6.960000\n",
       "75%        16.217500\n",
       "max        55.470000\n",
       "Name: Close, dtype: float64"
      ]
     },
     "metadata": {},
     "output_type": "display_data"
    }
   ],
   "source": [
    "# For the date early in the dataset, measure the arbitrage spread between the two exchanges\n",
    "# by subtracting the lower-priced exchange from the higher-priced one\n",
    "# Use a conditional statement to generate the summary statistics for each arbitrage_spread DataFrame\n",
    "print(f\"\\nArbitrage spread on {early_start_date}\")\n",
    "if (coinbase_early_date - bitstamp_early_date).mean() > 0:\n",
    "    print(\"Coinbase averaged higher than Bitstamp\")\n",
    "    arbitrage_spread_early = coinbase_early_date - bitstamp_early_date\n",
    "else:\n",
    "    print(\"Bitstamp averaged higher than Coinbase\")\n",
    "    arbitrage_spread_early = bitstamp_early_date - coinbase_early_date\n",
    "display(arbitrage_spread_early.describe())\n",
    "\n",
    "print(f\"\\nArbitrage spread on {middle_start_date}\")\n",
    "if (coinbase_middle_date - bitstamp_middle_date).mean() > 0:\n",
    "    print(\"Coinbase averaged higher than Bitstamp\")\n",
    "    arbitrage_spread_middle = coinbase_middle_date - bitstamp_middle_date\n",
    "else:\n",
    "    print(\"Bitstamp averaged higher than Coinbase\")\n",
    "    arbitrage_spread_early = bitstamp_middle_date - coinbase_middle_date\n",
    "display(arbitrage_spread_middle.describe())\n",
    "\n",
    "print(f\"\\nArbitrage spread on {late_start_date}\")\n",
    "if (coinbase_late_date - bitstamp_late_date).mean() > 0:\n",
    "    print(\"Coinbase averaged higher than Bitstamp\")\n",
    "    arbitrage_spread_late = coinbase_late_date - bitstamp_late_date\n",
    "else:\n",
    "    print(\"Bitstamp averaged higher than Coinbase\")\n",
    "    arbitrage_spread_late = bitstamp_late_date - coinbase_late_date\n",
    "display(arbitrage_spread_late.describe())\n",
    " "
   ]
  },
  {
   "cell_type": "markdown",
   "metadata": {},
   "source": [
    "#### 2. For each of the three dates, calculate the spread returns. To do so, divide the instances that have a positive arbitrage spread (that is, a spread greater than zero) by the price of Bitcoin from the exchange you’re buying on (that is, the lower-priced exchange). Review the resulting DataFrame."
   ]
  },
  {
   "cell_type": "code",
   "execution_count": 42,
   "metadata": {},
   "outputs": [
    {
     "name": "stdout",
     "output_type": "stream",
     "text": [
      "\n",
      "Summary statistics for 2018-01-04\n",
      "\n"
     ]
    },
    {
     "data": {
      "text/html": [
       "<div>\n",
       "<style scoped>\n",
       "    .dataframe tbody tr th:only-of-type {\n",
       "        vertical-align: middle;\n",
       "    }\n",
       "\n",
       "    .dataframe tbody tr th {\n",
       "        vertical-align: top;\n",
       "    }\n",
       "\n",
       "    .dataframe thead th {\n",
       "        text-align: right;\n",
       "    }\n",
       "</style>\n",
       "<table border=\"1\" class=\"dataframe\">\n",
       "  <thead>\n",
       "    <tr style=\"text-align: right;\">\n",
       "      <th></th>\n",
       "      <th>Bitstamp</th>\n",
       "      <th>Coinbase</th>\n",
       "      <th>Spread</th>\n",
       "      <th>Return Percentage</th>\n",
       "    </tr>\n",
       "    <tr>\n",
       "      <th>Timestamp</th>\n",
       "      <th></th>\n",
       "      <th></th>\n",
       "      <th></th>\n",
       "      <th></th>\n",
       "    </tr>\n",
       "  </thead>\n",
       "  <tbody>\n",
       "    <tr>\n",
       "      <th>2018-01-04 00:00:00</th>\n",
       "      <td>14947.40</td>\n",
       "      <td>14986.77</td>\n",
       "      <td>39.37</td>\n",
       "      <td>0.263390</td>\n",
       "    </tr>\n",
       "    <tr>\n",
       "      <th>2018-01-04 00:01:00</th>\n",
       "      <td>14937.94</td>\n",
       "      <td>14980.01</td>\n",
       "      <td>42.07</td>\n",
       "      <td>0.281632</td>\n",
       "    </tr>\n",
       "    <tr>\n",
       "      <th>2018-01-04 00:02:00</th>\n",
       "      <td>14970.00</td>\n",
       "      <td>14995.00</td>\n",
       "      <td>25.00</td>\n",
       "      <td>0.167001</td>\n",
       "    </tr>\n",
       "    <tr>\n",
       "      <th>2018-01-04 00:03:00</th>\n",
       "      <td>14905.96</td>\n",
       "      <td>14963.64</td>\n",
       "      <td>57.68</td>\n",
       "      <td>0.386959</td>\n",
       "    </tr>\n",
       "    <tr>\n",
       "      <th>2018-01-04 00:04:00</th>\n",
       "      <td>14861.68</td>\n",
       "      <td>14960.00</td>\n",
       "      <td>98.32</td>\n",
       "      <td>0.661567</td>\n",
       "    </tr>\n",
       "    <tr>\n",
       "      <th>...</th>\n",
       "      <td>...</td>\n",
       "      <td>...</td>\n",
       "      <td>...</td>\n",
       "      <td>...</td>\n",
       "    </tr>\n",
       "    <tr>\n",
       "      <th>2018-01-04 23:55:00</th>\n",
       "      <td>14922.65</td>\n",
       "      <td>14890.01</td>\n",
       "      <td>32.64</td>\n",
       "      <td>0.219207</td>\n",
       "    </tr>\n",
       "    <tr>\n",
       "      <th>2018-01-04 23:56:00</th>\n",
       "      <td>14944.54</td>\n",
       "      <td>14905.79</td>\n",
       "      <td>38.75</td>\n",
       "      <td>0.259966</td>\n",
       "    </tr>\n",
       "    <tr>\n",
       "      <th>2018-01-04 23:57:00</th>\n",
       "      <td>14910.27</td>\n",
       "      <td>14933.88</td>\n",
       "      <td>23.61</td>\n",
       "      <td>0.158347</td>\n",
       "    </tr>\n",
       "    <tr>\n",
       "      <th>2018-01-04 23:58:00</th>\n",
       "      <td>14949.23</td>\n",
       "      <td>14933.88</td>\n",
       "      <td>15.35</td>\n",
       "      <td>0.102786</td>\n",
       "    </tr>\n",
       "    <tr>\n",
       "      <th>2018-01-04 23:59:00</th>\n",
       "      <td>14950.00</td>\n",
       "      <td>14938.79</td>\n",
       "      <td>11.21</td>\n",
       "      <td>0.075040</td>\n",
       "    </tr>\n",
       "  </tbody>\n",
       "</table>\n",
       "<p>1440 rows × 4 columns</p>\n",
       "</div>"
      ],
      "text/plain": [
       "                     Bitstamp  Coinbase  Spread  Return Percentage\n",
       "Timestamp                                                         \n",
       "2018-01-04 00:00:00  14947.40  14986.77   39.37           0.263390\n",
       "2018-01-04 00:01:00  14937.94  14980.01   42.07           0.281632\n",
       "2018-01-04 00:02:00  14970.00  14995.00   25.00           0.167001\n",
       "2018-01-04 00:03:00  14905.96  14963.64   57.68           0.386959\n",
       "2018-01-04 00:04:00  14861.68  14960.00   98.32           0.661567\n",
       "...                       ...       ...     ...                ...\n",
       "2018-01-04 23:55:00  14922.65  14890.01   32.64           0.219207\n",
       "2018-01-04 23:56:00  14944.54  14905.79   38.75           0.259966\n",
       "2018-01-04 23:57:00  14910.27  14933.88   23.61           0.158347\n",
       "2018-01-04 23:58:00  14949.23  14933.88   15.35           0.102786\n",
       "2018-01-04 23:59:00  14950.00  14938.79   11.21           0.075040\n",
       "\n",
       "[1440 rows x 4 columns]"
      ]
     },
     "metadata": {},
     "output_type": "display_data"
    },
    {
     "name": "stdout",
     "output_type": "stream",
     "text": [
      "\n",
      "Summary statistics for 2018-02-15\n",
      "\n"
     ]
    },
    {
     "data": {
      "text/html": [
       "<div>\n",
       "<style scoped>\n",
       "    .dataframe tbody tr th:only-of-type {\n",
       "        vertical-align: middle;\n",
       "    }\n",
       "\n",
       "    .dataframe tbody tr th {\n",
       "        vertical-align: top;\n",
       "    }\n",
       "\n",
       "    .dataframe thead th {\n",
       "        text-align: right;\n",
       "    }\n",
       "</style>\n",
       "<table border=\"1\" class=\"dataframe\">\n",
       "  <thead>\n",
       "    <tr style=\"text-align: right;\">\n",
       "      <th></th>\n",
       "      <th>Bitstamp</th>\n",
       "      <th>Coinbase</th>\n",
       "      <th>Spread</th>\n",
       "      <th>Return Percentage</th>\n",
       "    </tr>\n",
       "    <tr>\n",
       "      <th>Timestamp</th>\n",
       "      <th></th>\n",
       "      <th></th>\n",
       "      <th></th>\n",
       "      <th></th>\n",
       "    </tr>\n",
       "  </thead>\n",
       "  <tbody>\n",
       "    <tr>\n",
       "      <th>2018-02-15 00:00:00</th>\n",
       "      <td>9724.33</td>\n",
       "      <td>9745.63</td>\n",
       "      <td>21.30</td>\n",
       "      <td>0.219038</td>\n",
       "    </tr>\n",
       "    <tr>\n",
       "      <th>2018-02-15 00:01:00</th>\n",
       "      <td>9738.90</td>\n",
       "      <td>9745.63</td>\n",
       "      <td>6.73</td>\n",
       "      <td>0.069104</td>\n",
       "    </tr>\n",
       "    <tr>\n",
       "      <th>2018-02-15 00:02:00</th>\n",
       "      <td>9735.99</td>\n",
       "      <td>9745.63</td>\n",
       "      <td>9.64</td>\n",
       "      <td>0.099014</td>\n",
       "    </tr>\n",
       "    <tr>\n",
       "      <th>2018-02-15 00:03:00</th>\n",
       "      <td>9724.45</td>\n",
       "      <td>9745.63</td>\n",
       "      <td>21.18</td>\n",
       "      <td>0.217802</td>\n",
       "    </tr>\n",
       "    <tr>\n",
       "      <th>2018-02-15 00:04:00</th>\n",
       "      <td>9709.91</td>\n",
       "      <td>9717.10</td>\n",
       "      <td>7.19</td>\n",
       "      <td>0.074048</td>\n",
       "    </tr>\n",
       "    <tr>\n",
       "      <th>...</th>\n",
       "      <td>...</td>\n",
       "      <td>...</td>\n",
       "      <td>...</td>\n",
       "      <td>...</td>\n",
       "    </tr>\n",
       "    <tr>\n",
       "      <th>2018-02-15 23:55:00</th>\n",
       "      <td>9977.50</td>\n",
       "      <td>9962.02</td>\n",
       "      <td>15.48</td>\n",
       "      <td>0.155390</td>\n",
       "    </tr>\n",
       "    <tr>\n",
       "      <th>2018-02-15 23:56:00</th>\n",
       "      <td>9990.03</td>\n",
       "      <td>9962.99</td>\n",
       "      <td>27.04</td>\n",
       "      <td>0.271404</td>\n",
       "    </tr>\n",
       "    <tr>\n",
       "      <th>2018-02-15 23:57:00</th>\n",
       "      <td>10007.32</td>\n",
       "      <td>9963.00</td>\n",
       "      <td>44.32</td>\n",
       "      <td>0.444846</td>\n",
       "    </tr>\n",
       "    <tr>\n",
       "      <th>2018-02-15 23:58:00</th>\n",
       "      <td>10019.81</td>\n",
       "      <td>9991.45</td>\n",
       "      <td>28.36</td>\n",
       "      <td>0.283843</td>\n",
       "    </tr>\n",
       "    <tr>\n",
       "      <th>2018-02-15 23:59:00</th>\n",
       "      <td>10006.35</td>\n",
       "      <td>10003.35</td>\n",
       "      <td>3.00</td>\n",
       "      <td>0.029990</td>\n",
       "    </tr>\n",
       "  </tbody>\n",
       "</table>\n",
       "<p>1440 rows × 4 columns</p>\n",
       "</div>"
      ],
      "text/plain": [
       "                     Bitstamp  Coinbase  Spread  Return Percentage\n",
       "Timestamp                                                         \n",
       "2018-02-15 00:00:00   9724.33   9745.63   21.30           0.219038\n",
       "2018-02-15 00:01:00   9738.90   9745.63    6.73           0.069104\n",
       "2018-02-15 00:02:00   9735.99   9745.63    9.64           0.099014\n",
       "2018-02-15 00:03:00   9724.45   9745.63   21.18           0.217802\n",
       "2018-02-15 00:04:00   9709.91   9717.10    7.19           0.074048\n",
       "...                       ...       ...     ...                ...\n",
       "2018-02-15 23:55:00   9977.50   9962.02   15.48           0.155390\n",
       "2018-02-15 23:56:00   9990.03   9962.99   27.04           0.271404\n",
       "2018-02-15 23:57:00  10007.32   9963.00   44.32           0.444846\n",
       "2018-02-15 23:58:00  10019.81   9991.45   28.36           0.283843\n",
       "2018-02-15 23:59:00  10006.35  10003.35    3.00           0.029990\n",
       "\n",
       "[1440 rows x 4 columns]"
      ]
     },
     "metadata": {},
     "output_type": "display_data"
    },
    {
     "name": "stdout",
     "output_type": "stream",
     "text": [
      "\n",
      "Summary statistics for 2018-03-29\n",
      "\n"
     ]
    },
    {
     "data": {
      "text/html": [
       "<div>\n",
       "<style scoped>\n",
       "    .dataframe tbody tr th:only-of-type {\n",
       "        vertical-align: middle;\n",
       "    }\n",
       "\n",
       "    .dataframe tbody tr th {\n",
       "        vertical-align: top;\n",
       "    }\n",
       "\n",
       "    .dataframe thead th {\n",
       "        text-align: right;\n",
       "    }\n",
       "</style>\n",
       "<table border=\"1\" class=\"dataframe\">\n",
       "  <thead>\n",
       "    <tr style=\"text-align: right;\">\n",
       "      <th></th>\n",
       "      <th>Bitstamp</th>\n",
       "      <th>Coinbase</th>\n",
       "      <th>Spread</th>\n",
       "      <th>Return Percentage</th>\n",
       "    </tr>\n",
       "    <tr>\n",
       "      <th>Timestamp</th>\n",
       "      <th></th>\n",
       "      <th></th>\n",
       "      <th></th>\n",
       "      <th></th>\n",
       "    </tr>\n",
       "  </thead>\n",
       "  <tbody>\n",
       "    <tr>\n",
       "      <th>2018-02-15 00:00:00</th>\n",
       "      <td>9724.33</td>\n",
       "      <td>9745.63</td>\n",
       "      <td>21.30</td>\n",
       "      <td>0.219038</td>\n",
       "    </tr>\n",
       "    <tr>\n",
       "      <th>2018-02-15 00:01:00</th>\n",
       "      <td>9738.90</td>\n",
       "      <td>9745.63</td>\n",
       "      <td>6.73</td>\n",
       "      <td>0.069104</td>\n",
       "    </tr>\n",
       "    <tr>\n",
       "      <th>2018-02-15 00:02:00</th>\n",
       "      <td>9735.99</td>\n",
       "      <td>9745.63</td>\n",
       "      <td>9.64</td>\n",
       "      <td>0.099014</td>\n",
       "    </tr>\n",
       "    <tr>\n",
       "      <th>2018-02-15 00:03:00</th>\n",
       "      <td>9724.45</td>\n",
       "      <td>9745.63</td>\n",
       "      <td>21.18</td>\n",
       "      <td>0.217802</td>\n",
       "    </tr>\n",
       "    <tr>\n",
       "      <th>2018-02-15 00:04:00</th>\n",
       "      <td>9709.91</td>\n",
       "      <td>9717.10</td>\n",
       "      <td>7.19</td>\n",
       "      <td>0.074048</td>\n",
       "    </tr>\n",
       "    <tr>\n",
       "      <th>...</th>\n",
       "      <td>...</td>\n",
       "      <td>...</td>\n",
       "      <td>...</td>\n",
       "      <td>...</td>\n",
       "    </tr>\n",
       "    <tr>\n",
       "      <th>2018-02-15 23:55:00</th>\n",
       "      <td>9977.50</td>\n",
       "      <td>9962.02</td>\n",
       "      <td>15.48</td>\n",
       "      <td>0.155390</td>\n",
       "    </tr>\n",
       "    <tr>\n",
       "      <th>2018-02-15 23:56:00</th>\n",
       "      <td>9990.03</td>\n",
       "      <td>9962.99</td>\n",
       "      <td>27.04</td>\n",
       "      <td>0.271404</td>\n",
       "    </tr>\n",
       "    <tr>\n",
       "      <th>2018-02-15 23:57:00</th>\n",
       "      <td>10007.32</td>\n",
       "      <td>9963.00</td>\n",
       "      <td>44.32</td>\n",
       "      <td>0.444846</td>\n",
       "    </tr>\n",
       "    <tr>\n",
       "      <th>2018-02-15 23:58:00</th>\n",
       "      <td>10019.81</td>\n",
       "      <td>9991.45</td>\n",
       "      <td>28.36</td>\n",
       "      <td>0.283843</td>\n",
       "    </tr>\n",
       "    <tr>\n",
       "      <th>2018-02-15 23:59:00</th>\n",
       "      <td>10006.35</td>\n",
       "      <td>10003.35</td>\n",
       "      <td>3.00</td>\n",
       "      <td>0.029990</td>\n",
       "    </tr>\n",
       "  </tbody>\n",
       "</table>\n",
       "<p>1440 rows × 4 columns</p>\n",
       "</div>"
      ],
      "text/plain": [
       "                     Bitstamp  Coinbase  Spread  Return Percentage\n",
       "Timestamp                                                         \n",
       "2018-02-15 00:00:00   9724.33   9745.63   21.30           0.219038\n",
       "2018-02-15 00:01:00   9738.90   9745.63    6.73           0.069104\n",
       "2018-02-15 00:02:00   9735.99   9745.63    9.64           0.099014\n",
       "2018-02-15 00:03:00   9724.45   9745.63   21.18           0.217802\n",
       "2018-02-15 00:04:00   9709.91   9717.10    7.19           0.074048\n",
       "...                       ...       ...     ...                ...\n",
       "2018-02-15 23:55:00   9977.50   9962.02   15.48           0.155390\n",
       "2018-02-15 23:56:00   9990.03   9962.99   27.04           0.271404\n",
       "2018-02-15 23:57:00  10007.32   9963.00   44.32           0.444846\n",
       "2018-02-15 23:58:00  10019.81   9991.45   28.36           0.283843\n",
       "2018-02-15 23:59:00  10006.35  10003.35    3.00           0.029990\n",
       "\n",
       "[1440 rows x 4 columns]"
      ]
     },
     "metadata": {},
     "output_type": "display_data"
    }
   ],
   "source": [
    "# For the date early in the dataset, calculate the spread returns by dividing the instances when the arbitrage spread is positive (> 0) \n",
    "# by the price of Bitcoin from the exchange you are buying on (the lower-priced exchange).\n",
    "\n",
    "def calc_arbitrage(df):\n",
    "    if df['Bitstamp'] < df['Coinbase']:\n",
    "        return 100 * df['Spread'] /df['Bitstamp']\n",
    "    elif df['Bitstamp'] > df['Coinbase']:\n",
    "        return 100 * df['Spread'] / df['Coinbase']\n",
    "    else:\n",
    "        return 0\n",
    "\n",
    "spread_return_early=pd.DataFrame(data=[bitstamp_early_date,coinbase_early_date], index=['Bitstamp', 'Coinbase']).T\n",
    "spread_return_early['Spread']= (spread_return_early['Bitstamp'] - spread_return_early['Coinbase']).abs()\n",
    "spread_return_early['Return Percentage'] = spread_return_early.apply(calc_arbitrage, axis = 'columns')\n",
    "\n",
    "spread_return_middle=pd.DataFrame(data=[bitstamp_middle_date,coinbase_middle_date], index=['Bitstamp', 'Coinbase']).T\n",
    "spread_return_middle['Spread']= (spread_return_middle['Bitstamp'] - spread_return_middle['Coinbase']).abs()\n",
    "spread_return_middle['Return Percentage'] = spread_return_middle.apply(calc_arbitrage, axis = 'columns')\n",
    "\n",
    "spread_return_late=pd.DataFrame(data=[bitstamp_late_date,coinbase_late_date], index=['Bitstamp', 'Coinbase']).T\n",
    "spread_return_late['Spread']= (spread_return_late['Bitstamp'] - spread_return_late['Coinbase']).abs()\n",
    "spread_return_late['Return Percentage'] = spread_return_late.apply(calc_arbitrage, axis = 'columns')\n",
    "\n",
    "# Review the spread return DataFrame\n",
    "print(f\"\\nSummary statistics for {early_start_date}\\n\")\n",
    "display(spread_return_early)\n",
    "\n",
    "print(f\"\\nSummary statistics for {middle_start_date}\\n\")\n",
    "display(spread_return_middle)\n",
    "\n",
    "print(f\"\\nSummary statistics for {late_start_date}\\n\")\n",
    "display(spread_return_late)"
   ]
  },
  {
   "cell_type": "markdown",
   "metadata": {},
   "source": [
    "#### 3. For each of the three dates, narrow down your trading opportunities even further. To do so, determine the number of times your trades with positive returns exceed the 1% minimum threshold that you need to cover your costs."
   ]
  },
  {
   "cell_type": "code",
   "execution_count": 43,
   "metadata": {},
   "outputs": [
    {
     "name": "stdout",
     "output_type": "stream",
     "text": [
      "22 profitable trades on 2018-01-04\n",
      "0 profitable trades on 2018-02-15\n",
      "0 profitable trades on 2018-03-29\n"
     ]
    },
    {
     "data": {
      "text/html": [
       "<div>\n",
       "<style scoped>\n",
       "    .dataframe tbody tr th:only-of-type {\n",
       "        vertical-align: middle;\n",
       "    }\n",
       "\n",
       "    .dataframe tbody tr th {\n",
       "        vertical-align: top;\n",
       "    }\n",
       "\n",
       "    .dataframe thead th {\n",
       "        text-align: right;\n",
       "    }\n",
       "</style>\n",
       "<table border=\"1\" class=\"dataframe\">\n",
       "  <thead>\n",
       "    <tr style=\"text-align: right;\">\n",
       "      <th></th>\n",
       "      <th>Bitstamp</th>\n",
       "      <th>Coinbase</th>\n",
       "      <th>Spread</th>\n",
       "      <th>Return Percentage</th>\n",
       "    </tr>\n",
       "    <tr>\n",
       "      <th>Timestamp</th>\n",
       "      <th></th>\n",
       "      <th></th>\n",
       "      <th></th>\n",
       "      <th></th>\n",
       "    </tr>\n",
       "  </thead>\n",
       "  <tbody>\n",
       "    <tr>\n",
       "      <th>2018-01-04 01:59:00</th>\n",
       "      <td>14850.00</td>\n",
       "      <td>15000.00</td>\n",
       "      <td>150.00</td>\n",
       "      <td>1.010101</td>\n",
       "    </tr>\n",
       "    <tr>\n",
       "      <th>2018-01-04 02:10:00</th>\n",
       "      <td>14810.91</td>\n",
       "      <td>14984.36</td>\n",
       "      <td>173.45</td>\n",
       "      <td>1.171096</td>\n",
       "    </tr>\n",
       "    <tr>\n",
       "      <th>2018-01-04 02:12:00</th>\n",
       "      <td>14813.51</td>\n",
       "      <td>14984.00</td>\n",
       "      <td>170.49</td>\n",
       "      <td>1.150909</td>\n",
       "    </tr>\n",
       "    <tr>\n",
       "      <th>2018-01-04 02:15:00</th>\n",
       "      <td>14770.00</td>\n",
       "      <td>14935.00</td>\n",
       "      <td>165.00</td>\n",
       "      <td>1.117129</td>\n",
       "    </tr>\n",
       "    <tr>\n",
       "      <th>2018-01-04 02:19:00</th>\n",
       "      <td>14730.63</td>\n",
       "      <td>14930.00</td>\n",
       "      <td>199.37</td>\n",
       "      <td>1.353438</td>\n",
       "    </tr>\n",
       "  </tbody>\n",
       "</table>\n",
       "</div>"
      ],
      "text/plain": [
       "                     Bitstamp  Coinbase  Spread  Return Percentage\n",
       "Timestamp                                                         \n",
       "2018-01-04 01:59:00  14850.00  15000.00  150.00           1.010101\n",
       "2018-01-04 02:10:00  14810.91  14984.36  173.45           1.171096\n",
       "2018-01-04 02:12:00  14813.51  14984.00  170.49           1.150909\n",
       "2018-01-04 02:15:00  14770.00  14935.00  165.00           1.117129\n",
       "2018-01-04 02:19:00  14730.63  14930.00  199.37           1.353438"
      ]
     },
     "metadata": {},
     "output_type": "display_data"
    },
    {
     "data": {
      "text/html": [
       "<div>\n",
       "<style scoped>\n",
       "    .dataframe tbody tr th:only-of-type {\n",
       "        vertical-align: middle;\n",
       "    }\n",
       "\n",
       "    .dataframe tbody tr th {\n",
       "        vertical-align: top;\n",
       "    }\n",
       "\n",
       "    .dataframe thead th {\n",
       "        text-align: right;\n",
       "    }\n",
       "</style>\n",
       "<table border=\"1\" class=\"dataframe\">\n",
       "  <thead>\n",
       "    <tr style=\"text-align: right;\">\n",
       "      <th></th>\n",
       "      <th>Bitstamp</th>\n",
       "      <th>Coinbase</th>\n",
       "      <th>Spread</th>\n",
       "      <th>Return Percentage</th>\n",
       "    </tr>\n",
       "    <tr>\n",
       "      <th>Timestamp</th>\n",
       "      <th></th>\n",
       "      <th></th>\n",
       "      <th></th>\n",
       "      <th></th>\n",
       "    </tr>\n",
       "  </thead>\n",
       "  <tbody>\n",
       "  </tbody>\n",
       "</table>\n",
       "</div>"
      ],
      "text/plain": [
       "Empty DataFrame\n",
       "Columns: [Bitstamp, Coinbase, Spread, Return Percentage]\n",
       "Index: []"
      ]
     },
     "metadata": {},
     "output_type": "display_data"
    },
    {
     "data": {
      "text/html": [
       "<div>\n",
       "<style scoped>\n",
       "    .dataframe tbody tr th:only-of-type {\n",
       "        vertical-align: middle;\n",
       "    }\n",
       "\n",
       "    .dataframe tbody tr th {\n",
       "        vertical-align: top;\n",
       "    }\n",
       "\n",
       "    .dataframe thead th {\n",
       "        text-align: right;\n",
       "    }\n",
       "</style>\n",
       "<table border=\"1\" class=\"dataframe\">\n",
       "  <thead>\n",
       "    <tr style=\"text-align: right;\">\n",
       "      <th></th>\n",
       "      <th>Bitstamp</th>\n",
       "      <th>Coinbase</th>\n",
       "      <th>Spread</th>\n",
       "      <th>Return Percentage</th>\n",
       "    </tr>\n",
       "    <tr>\n",
       "      <th>Timestamp</th>\n",
       "      <th></th>\n",
       "      <th></th>\n",
       "      <th></th>\n",
       "      <th></th>\n",
       "    </tr>\n",
       "  </thead>\n",
       "  <tbody>\n",
       "  </tbody>\n",
       "</table>\n",
       "</div>"
      ],
      "text/plain": [
       "Empty DataFrame\n",
       "Columns: [Bitstamp, Coinbase, Spread, Return Percentage]\n",
       "Index: []"
      ]
     },
     "metadata": {},
     "output_type": "display_data"
    }
   ],
   "source": [
    "# For the date early in the dataset, determine the number of times your trades with positive returns \n",
    "# exceed the 1% minimum threshold (.01) that you need to cover your costs\n",
    "profitable_trades_early = spread_return_early.loc[spread_return_early['Return Percentage'] > 1].copy()\n",
    "print(f\"{profitable_trades_early['Spread'].count()} profitable trades on {early_start_date}\")\n",
    "\n",
    "profitable_trades_middle = spread_return_middle.loc[spread_return_middle['Return Percentage'] > 1].copy()\n",
    "print(f\"{profitable_trades_middle['Spread'].count()} profitable trades on {middle_start_date}\")\n",
    "\n",
    "profitable_trades_late = spread_return_late.loc[spread_return_late['Return Percentage'] > 1].copy()\n",
    "print(f\"{profitable_trades_late['Spread'].count()} profitable trades on {late_start_date}\")\n",
    "\n",
    "# Review the first five profitable trades\n",
    "display(profitable_trades_early.head())\n",
    "display(profitable_trades_middle.head())\n",
    "display(profitable_trades_late.head())\n"
   ]
  },
  {
   "cell_type": "markdown",
   "metadata": {},
   "source": [
    "#### 4. Generate the summary statistics of your spread returns that are greater than 1%. How do the average returns compare among the three dates?"
   ]
  },
  {
   "cell_type": "code",
   "execution_count": 44,
   "metadata": {},
   "outputs": [
    {
     "data": {
      "text/html": [
       "<div>\n",
       "<style scoped>\n",
       "    .dataframe tbody tr th:only-of-type {\n",
       "        vertical-align: middle;\n",
       "    }\n",
       "\n",
       "    .dataframe tbody tr th {\n",
       "        vertical-align: top;\n",
       "    }\n",
       "\n",
       "    .dataframe thead th {\n",
       "        text-align: right;\n",
       "    }\n",
       "</style>\n",
       "<table border=\"1\" class=\"dataframe\">\n",
       "  <thead>\n",
       "    <tr style=\"text-align: right;\">\n",
       "      <th></th>\n",
       "      <th>Bitstamp</th>\n",
       "      <th>Coinbase</th>\n",
       "      <th>Spread</th>\n",
       "      <th>Return Percentage</th>\n",
       "    </tr>\n",
       "  </thead>\n",
       "  <tbody>\n",
       "    <tr>\n",
       "      <th>count</th>\n",
       "      <td>1440.000000</td>\n",
       "      <td>1440.000000</td>\n",
       "      <td>1440.000000</td>\n",
       "      <td>1440.000000</td>\n",
       "    </tr>\n",
       "    <tr>\n",
       "      <th>mean</th>\n",
       "      <td>14797.036819</td>\n",
       "      <td>14825.769069</td>\n",
       "      <td>45.962306</td>\n",
       "      <td>0.312108</td>\n",
       "    </tr>\n",
       "    <tr>\n",
       "      <th>std</th>\n",
       "      <td>236.936351</td>\n",
       "      <td>214.799674</td>\n",
       "      <td>34.828241</td>\n",
       "      <td>0.238492</td>\n",
       "    </tr>\n",
       "    <tr>\n",
       "      <th>min</th>\n",
       "      <td>14192.370000</td>\n",
       "      <td>14243.910000</td>\n",
       "      <td>0.000000</td>\n",
       "      <td>0.000000</td>\n",
       "    </tr>\n",
       "    <tr>\n",
       "      <th>25%</th>\n",
       "      <td>14564.335000</td>\n",
       "      <td>14610.000000</td>\n",
       "      <td>19.997500</td>\n",
       "      <td>0.134820</td>\n",
       "    </tr>\n",
       "    <tr>\n",
       "      <th>50%</th>\n",
       "      <td>14868.790000</td>\n",
       "      <td>14902.375000</td>\n",
       "      <td>39.245000</td>\n",
       "      <td>0.262978</td>\n",
       "    </tr>\n",
       "    <tr>\n",
       "      <th>75%</th>\n",
       "      <td>15002.062500</td>\n",
       "      <td>15000.232500</td>\n",
       "      <td>62.817500</td>\n",
       "      <td>0.427558</td>\n",
       "    </tr>\n",
       "    <tr>\n",
       "      <th>max</th>\n",
       "      <td>15242.910000</td>\n",
       "      <td>15171.000000</td>\n",
       "      <td>240.000000</td>\n",
       "      <td>1.658031</td>\n",
       "    </tr>\n",
       "  </tbody>\n",
       "</table>\n",
       "</div>"
      ],
      "text/plain": [
       "           Bitstamp      Coinbase       Spread  Return Percentage\n",
       "count   1440.000000   1440.000000  1440.000000        1440.000000\n",
       "mean   14797.036819  14825.769069    45.962306           0.312108\n",
       "std      236.936351    214.799674    34.828241           0.238492\n",
       "min    14192.370000  14243.910000     0.000000           0.000000\n",
       "25%    14564.335000  14610.000000    19.997500           0.134820\n",
       "50%    14868.790000  14902.375000    39.245000           0.262978\n",
       "75%    15002.062500  15000.232500    62.817500           0.427558\n",
       "max    15242.910000  15171.000000   240.000000           1.658031"
      ]
     },
     "metadata": {},
     "output_type": "display_data"
    },
    {
     "data": {
      "text/html": [
       "<div>\n",
       "<style scoped>\n",
       "    .dataframe tbody tr th:only-of-type {\n",
       "        vertical-align: middle;\n",
       "    }\n",
       "\n",
       "    .dataframe tbody tr th {\n",
       "        vertical-align: top;\n",
       "    }\n",
       "\n",
       "    .dataframe thead th {\n",
       "        text-align: right;\n",
       "    }\n",
       "</style>\n",
       "<table border=\"1\" class=\"dataframe\">\n",
       "  <thead>\n",
       "    <tr style=\"text-align: right;\">\n",
       "      <th></th>\n",
       "      <th>Bitstamp</th>\n",
       "      <th>Coinbase</th>\n",
       "      <th>Spread</th>\n",
       "      <th>Return Percentage</th>\n",
       "    </tr>\n",
       "  </thead>\n",
       "  <tbody>\n",
       "    <tr>\n",
       "      <th>count</th>\n",
       "      <td>1440.000000</td>\n",
       "      <td>1440.000000</td>\n",
       "      <td>1440.000000</td>\n",
       "      <td>1440.000000</td>\n",
       "    </tr>\n",
       "    <tr>\n",
       "      <th>mean</th>\n",
       "      <td>9930.236535</td>\n",
       "      <td>9924.476528</td>\n",
       "      <td>13.052576</td>\n",
       "      <td>0.131430</td>\n",
       "    </tr>\n",
       "    <tr>\n",
       "      <th>std</th>\n",
       "      <td>196.232293</td>\n",
       "      <td>195.447618</td>\n",
       "      <td>9.218517</td>\n",
       "      <td>0.092643</td>\n",
       "    </tr>\n",
       "    <tr>\n",
       "      <th>min</th>\n",
       "      <td>9500.000000</td>\n",
       "      <td>9502.100000</td>\n",
       "      <td>0.000000</td>\n",
       "      <td>0.000000</td>\n",
       "    </tr>\n",
       "    <tr>\n",
       "      <th>25%</th>\n",
       "      <td>9743.000000</td>\n",
       "      <td>9734.010000</td>\n",
       "      <td>5.585000</td>\n",
       "      <td>0.056604</td>\n",
       "    </tr>\n",
       "    <tr>\n",
       "      <th>50%</th>\n",
       "      <td>9914.490000</td>\n",
       "      <td>9909.945000</td>\n",
       "      <td>11.635000</td>\n",
       "      <td>0.117031</td>\n",
       "    </tr>\n",
       "    <tr>\n",
       "      <th>75%</th>\n",
       "      <td>10107.452500</td>\n",
       "      <td>10098.247500</td>\n",
       "      <td>18.972500</td>\n",
       "      <td>0.190473</td>\n",
       "    </tr>\n",
       "    <tr>\n",
       "      <th>max</th>\n",
       "      <td>10298.000000</td>\n",
       "      <td>10307.680000</td>\n",
       "      <td>55.470000</td>\n",
       "      <td>0.558385</td>\n",
       "    </tr>\n",
       "  </tbody>\n",
       "</table>\n",
       "</div>"
      ],
      "text/plain": [
       "           Bitstamp      Coinbase       Spread  Return Percentage\n",
       "count   1440.000000   1440.000000  1440.000000        1440.000000\n",
       "mean    9930.236535   9924.476528    13.052576           0.131430\n",
       "std      196.232293    195.447618     9.218517           0.092643\n",
       "min     9500.000000   9502.100000     0.000000           0.000000\n",
       "25%     9743.000000   9734.010000     5.585000           0.056604\n",
       "50%     9914.490000   9909.945000    11.635000           0.117031\n",
       "75%    10107.452500  10098.247500    18.972500           0.190473\n",
       "max    10298.000000  10307.680000    55.470000           0.558385"
      ]
     },
     "metadata": {},
     "output_type": "display_data"
    },
    {
     "data": {
      "text/html": [
       "<div>\n",
       "<style scoped>\n",
       "    .dataframe tbody tr th:only-of-type {\n",
       "        vertical-align: middle;\n",
       "    }\n",
       "\n",
       "    .dataframe tbody tr th {\n",
       "        vertical-align: top;\n",
       "    }\n",
       "\n",
       "    .dataframe thead th {\n",
       "        text-align: right;\n",
       "    }\n",
       "</style>\n",
       "<table border=\"1\" class=\"dataframe\">\n",
       "  <thead>\n",
       "    <tr style=\"text-align: right;\">\n",
       "      <th></th>\n",
       "      <th>Bitstamp</th>\n",
       "      <th>Coinbase</th>\n",
       "      <th>Spread</th>\n",
       "      <th>Return Percentage</th>\n",
       "    </tr>\n",
       "  </thead>\n",
       "  <tbody>\n",
       "    <tr>\n",
       "      <th>count</th>\n",
       "      <td>1440.000000</td>\n",
       "      <td>1440.000000</td>\n",
       "      <td>1440.000000</td>\n",
       "      <td>1440.000000</td>\n",
       "    </tr>\n",
       "    <tr>\n",
       "      <th>mean</th>\n",
       "      <td>9930.236535</td>\n",
       "      <td>9924.476528</td>\n",
       "      <td>13.052576</td>\n",
       "      <td>0.131430</td>\n",
       "    </tr>\n",
       "    <tr>\n",
       "      <th>std</th>\n",
       "      <td>196.232293</td>\n",
       "      <td>195.447618</td>\n",
       "      <td>9.218517</td>\n",
       "      <td>0.092643</td>\n",
       "    </tr>\n",
       "    <tr>\n",
       "      <th>min</th>\n",
       "      <td>9500.000000</td>\n",
       "      <td>9502.100000</td>\n",
       "      <td>0.000000</td>\n",
       "      <td>0.000000</td>\n",
       "    </tr>\n",
       "    <tr>\n",
       "      <th>25%</th>\n",
       "      <td>9743.000000</td>\n",
       "      <td>9734.010000</td>\n",
       "      <td>5.585000</td>\n",
       "      <td>0.056604</td>\n",
       "    </tr>\n",
       "    <tr>\n",
       "      <th>50%</th>\n",
       "      <td>9914.490000</td>\n",
       "      <td>9909.945000</td>\n",
       "      <td>11.635000</td>\n",
       "      <td>0.117031</td>\n",
       "    </tr>\n",
       "    <tr>\n",
       "      <th>75%</th>\n",
       "      <td>10107.452500</td>\n",
       "      <td>10098.247500</td>\n",
       "      <td>18.972500</td>\n",
       "      <td>0.190473</td>\n",
       "    </tr>\n",
       "    <tr>\n",
       "      <th>max</th>\n",
       "      <td>10298.000000</td>\n",
       "      <td>10307.680000</td>\n",
       "      <td>55.470000</td>\n",
       "      <td>0.558385</td>\n",
       "    </tr>\n",
       "  </tbody>\n",
       "</table>\n",
       "</div>"
      ],
      "text/plain": [
       "           Bitstamp      Coinbase       Spread  Return Percentage\n",
       "count   1440.000000   1440.000000  1440.000000        1440.000000\n",
       "mean    9930.236535   9924.476528    13.052576           0.131430\n",
       "std      196.232293    195.447618     9.218517           0.092643\n",
       "min     9500.000000   9502.100000     0.000000           0.000000\n",
       "25%     9743.000000   9734.010000     5.585000           0.056604\n",
       "50%     9914.490000   9909.945000    11.635000           0.117031\n",
       "75%    10107.452500  10098.247500    18.972500           0.190473\n",
       "max    10298.000000  10307.680000    55.470000           0.558385"
      ]
     },
     "metadata": {},
     "output_type": "display_data"
    }
   ],
   "source": [
    "# For the date early in the dataset, generate the summary statistics for the profitable trades\n",
    "# or you trades where the spread returns are are greater than 1%\n",
    "display(spread_return_early.describe())\n",
    "display(spread_return_middle.describe())\n",
    "display(spread_return_late.describe())"
   ]
  },
  {
   "cell_type": "markdown",
   "metadata": {},
   "source": [
    "#### 5. For each of the three dates, calculate the potential profit, in dollars, per trade. To do so, multiply the spread returns that were greater than 1% by the cost of what was purchased. Make sure to drop any missing values from the resulting DataFrame."
   ]
  },
  {
   "cell_type": "code",
   "execution_count": 54,
   "metadata": {},
   "outputs": [
    {
     "name": "stdout",
     "output_type": "stream",
     "text": [
      "\n",
      "Arbitrage profits on 2018-01-04 \n",
      "\n"
     ]
    },
    {
     "data": {
      "text/plain": [
       "Timestamp\n",
       "2018-01-04 01:59:00    150.00\n",
       "2018-01-04 02:10:00    173.45\n",
       "2018-01-04 02:12:00    170.49\n",
       "2018-01-04 02:15:00    165.00\n",
       "2018-01-04 02:19:00    199.37\n",
       "2018-01-04 02:20:00    157.16\n",
       "2018-01-04 03:22:00    160.74\n",
       "2018-01-04 03:23:00    146.74\n",
       "2018-01-04 03:24:00    181.65\n",
       "2018-01-04 03:25:00    204.83\n",
       "2018-01-04 03:26:00    173.98\n",
       "2018-01-04 03:27:00    200.11\n",
       "2018-01-04 03:28:00    228.83\n",
       "2018-01-04 03:29:00    240.00\n",
       "2018-01-04 03:30:00    236.28\n",
       "2018-01-04 03:31:00    182.98\n",
       "2018-01-04 03:40:00    150.42\n",
       "2018-01-04 03:41:00    156.00\n",
       "2018-01-04 07:24:00    152.66\n",
       "2018-01-04 07:25:00    152.67\n",
       "2018-01-04 07:27:00    164.32\n",
       "2018-01-04 14:12:00    159.12\n",
       "dtype: float64"
      ]
     },
     "metadata": {},
     "output_type": "display_data"
    },
    {
     "name": "stdout",
     "output_type": "stream",
     "text": [
      "\n",
      "Arbitrage profits on 2018-02-15 \n",
      "\n",
      "No profitable trades.\n",
      "\n",
      "Arbitrage profits on 2018-03-29 \n",
      "\n",
      "No profitable trades.\n"
     ]
    }
   ],
   "source": [
    "# For the date early in the dataset, calculate the potential profit per trade in dollars \n",
    "# Multiply the profitable trades by the cost of the Bitcoin that was purchased\n",
    "def calc_arbitrage(df):\n",
    "    if df['Bitstamp'] < df['Coinbase']:\n",
    "        return df['Return Percentage'] * df['Bitstamp'] / 100\n",
    "    elif df['Bitstamp'] > df['Coinbase']:\n",
    "        return df['Return Percentage'] * df['Coinbase'] / 100\n",
    "    else:\n",
    "        return 0.00\n",
    "\n",
    "profit_early = profitable_trades_early.apply(calc_arbitrage, axis=1)\n",
    "profit_middle = profitable_trades_middle.apply(calc_arbitrage, axis=1)\n",
    "profit_late = profitable_trades_late.apply(calc_arbitrage, axis=1)\n",
    "\n",
    "# Drop any missing values from the profit DataFrame\n",
    "profit_early.dropna()\n",
    "profit_middle.dropna()\n",
    "profit_late.dropna()\n",
    "\n",
    "# View the early profit DataFrame\n",
    "print(f\"\\nArbitrage profits on {early_start_date} \\n\")\n",
    "if profitable_trades_early['Spread'].count() > 0:\n",
    "    display(profit_early)\n",
    "else:\n",
    "    print(\"No profitable arbitrage opportunities.\")\n",
    "\n",
    "# View the middle profit DataFrame\n",
    "print(f\"\\nArbitrage profits on {middle_start_date} \\n\")\n",
    "if profitable_trades_middle['Spread'].count() > 0:\n",
    "    display(profit_middle)\n",
    "else:\n",
    "    print(\"No profitable arbitrage opportunities.\")\n",
    "\n",
    "# View the late profit DataFrame\n",
    "print(f\"\\nArbitrage profits on {late_start_date} \\n\")\n",
    "if profitable_trades_late['Spread'].count() > 0:\n",
    "    display(profit_late)\n",
    "else:\n",
    "    print(\"No profitable arbitrage opportunities.\")\n"
   ]
  },
  {
   "cell_type": "markdown",
   "metadata": {},
   "source": [
    "#### 6. Generate the summary statistics, and plot the results for each of the three DataFrames."
   ]
  },
  {
   "cell_type": "code",
   "execution_count": 57,
   "metadata": {},
   "outputs": [
    {
     "name": "stdout",
     "output_type": "stream",
     "text": [
      "\n",
      "Profit statistics from 2018-01-04 \n",
      "\n"
     ]
    },
    {
     "data": {
      "text/plain": [
       "count     22.000000\n",
       "mean     177.581818\n",
       "std       28.744807\n",
       "min      146.740000\n",
       "25%      156.290000\n",
       "50%      167.745000\n",
       "75%      195.272500\n",
       "max      240.000000\n",
       "dtype: float64"
      ]
     },
     "metadata": {},
     "output_type": "display_data"
    },
    {
     "name": "stdout",
     "output_type": "stream",
     "text": [
      "\n",
      "Profit statistics from 2018-02-15 \n",
      "\n",
      "No profitable arbitrage opportunities.\n",
      "\n",
      "Profit statistics from 2018-03-29 \n",
      "\n",
      "No profitable arbitrage opportunities.\n"
     ]
    }
   ],
   "source": [
    "# Generate the summary statistics for the early profit per trade DataFrame\n",
    "print(f\"\\nProfit statistics from {early_start_date} \\n\")\n",
    "if profitable_trades_early['Spread'].count() > 0:\n",
    "    display(profit_early.describe())\n",
    "else:\n",
    "    print(\"No profitable arbitrage opportunities.\")\n",
    "\n",
    "# Generate the summary statistics for the middle profit per trade DataFrame\n",
    "print(f\"\\nProfit statistics from {middle_start_date} \\n\")\n",
    "if profitable_trades_middle['Spread'].count() > 0:\n",
    "    display(profit_middle.describe())\n",
    "else:\n",
    "    print(\"No profitable arbitrage opportunities.\")\n",
    "\n",
    "# Generate the summary statistics for the late profit per trade DataFrame\n",
    "print(f\"\\nProfit statistics from {late_start_date} \\n\")\n",
    "if profitable_trades_late['Spread'].count() > 0:\n",
    "    display(profit_late.describe())\n",
    "else:\n",
    "    print(\"No profitable arbitrage opportunities.\")"
   ]
  },
  {
   "cell_type": "code",
   "execution_count": 59,
   "metadata": {},
   "outputs": [
    {
     "data": {
      "image/png": "[encoded data removed]",
      "text/plain": [
       "<Figure size 720x360 with 1 Axes>"
      ]
     },
     "metadata": {
      "needs_background": "light"
     },
     "output_type": "display_data"
    }
   ],
   "source": [
    "# Plot the results for the early profit per trade DataFrame\n",
    "if profitable_trades_early['Spread'].count() > 0:\n",
    "    title = f\"Profits on {early_start_date}\"\n",
    "    profit_early.plot(figsize=(10,5), title=title, legend=True, label='Profit Levels')"
   ]
  },
  {
   "cell_type": "markdown",
   "metadata": {},
   "source": [
    "#### 7. Calculate the potential arbitrage profits that you can make on each day. To do so, sum the elements in the profit_per_trade DataFrame."
   ]
  },
  {
   "cell_type": "code",
   "execution_count": 74,
   "metadata": {},
   "outputs": [
    {
     "name": "stdout",
     "output_type": "stream",
     "text": [
      "Sum Potential profits on Early Date are: $3,906.80\n"
     ]
    }
   ],
   "source": [
    "# Calculate the sum of the potential profits for the early profit per trade DataFrame\n",
    "profit_sum_early = profit_early.sum()\n",
    "print(f'Sum Potential profits on Early Date are: ${profit_sum_early:,.2f}')\n"
   ]
  },
  {
   "cell_type": "markdown",
   "metadata": {},
   "source": [
    "#### 8. Using the `cumsum` function, plot the cumulative sum of each of the three DataFrames. Can you identify any patterns or trends in the profits across the three time periods?"
   ]
  },
  {
   "cell_type": "code",
   "execution_count": 75,
   "metadata": {},
   "outputs": [],
   "source": [
    "# Use the cumsum function to calculate the cumulative profits over time for the early profit per trade DataFrame\n",
    "cumulative_profit_early = profit_early.cumsum()"
   ]
  },
  {
   "cell_type": "code",
   "execution_count": 76,
   "metadata": {},
   "outputs": [
    {
     "data": {
      "text/plain": [
       "<AxesSubplot:title={'center':'Cumulative Sum: Early Date'}, xlabel='Timestamp'>"
      ]
     },
     "execution_count": 76,
     "metadata": {},
     "output_type": "execute_result"
    },
    {
     "data": {
      "image/png": "[encoded data removed]",
      "text/plain": [
       "<Figure size 432x288 with 1 Axes>"
      ]
     },
     "metadata": {
      "needs_background": "light"
     },
     "output_type": "display_data"
    }
   ],
   "source": [
    "# Plot the cumulative sum of profits for the early profit per trade DataFrame\n",
    "cumulative_profit_early.plot( title=\"Cumulative Sum: Early Date\")"
   ]
  },
  {
   "cell_type": "markdown",
   "metadata": {},
   "source": [
    "**Question:** After reviewing the profit information across each date from the different time periods, can you identify any patterns or trends?\n",
    "    \n",
    "**Answer:** YOUR ANSWER HERE"
   ]
  }
 ],
 "metadata": {
  "kernelspec": {
   "display_name": "Python 3",
   "language": "python",
   "name": "python3"
  },
  "language_info": {
   "codemirror_mode": {
    "name": "ipython",
    "version": 3
   },
   "file_extension": ".py",
   "mimetype": "text/x-python",
   "name": "python",
   "nbconvert_exporter": "python",
   "pygments_lexer": "ipython3",
   "version": "3.9.7"
  }
 },
 "nbformat": 4,
 "nbformat_minor": 4
}
